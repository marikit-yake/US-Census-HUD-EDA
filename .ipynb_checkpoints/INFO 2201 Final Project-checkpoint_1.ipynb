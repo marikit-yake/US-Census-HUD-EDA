{
 "cells": [
  {
   "cell_type": "markdown",
   "id": "56305279",
   "metadata": {},
   "source": [
    "# Exploratory Data Analysis - INFO 2201 Final Project\n",
    "<hr>\n",
    "\n",
    "## Table of Contents\n",
    "\n",
    "    Intro\n",
    "\n",
    "    Data Wrangling - Process of cleaning and loading data\n",
    "\n",
    "    Data Visualizations - What did you find?"
   ]
  },
  {
   "cell_type": "markdown",
   "id": "ae79910b",
   "metadata": {},
   "source": [
    "# Introduction\n",
    "<hr>\n",
    "    \n",
    "After the summer of 2020, many people took to the streets to advocate for vulnerable populations in society. It was just after that summer that I would begin to hear people claim that the United States has a ratio of 5-8 times as many vacant homes as homeless people. Which is to say, their claim was that the US has plenty of homes to offer the homeless but won't. While I can agree with the sentiment, I wanted to personally critically examine data involved in this claim. In the spirit of advocacy from a sociological perspective, I will also be unpacking the homeless population data across demographics to expose any observable inequities.\n",
    "\n",
    "    What are you trying to answer?\n",
    "Specifically, I would like to know: \"What is the ratio of vacant homes to the homeless population aggregated across the United States?\"\n",
    "\n",
    "    Where is the data from?\n",
    "US Census Bureau,\n",
    "US Department of Housing and Urban Development,\n",
    "Federal Reserve back of St. Louis (research dept.)"
   ]
  },
  {
   "cell_type": "code",
   "execution_count": 1,
   "id": "9a075ce6",
   "metadata": {},
   "outputs": [],
   "source": [
    "# Project Dependencies\n",
    "import pandas as pd\n",
    "import numpy as np\n",
    "import seaborn as sb  # using this instead of matplotlib for catplot()\n",
    "import matplotlib.pyplot as plt\n",
    "import requests\n",
    "import json\n",
    "\n",
    "%matplotlib inline"
   ]
  },
  {
   "cell_type": "markdown",
   "id": "87c4a7f9",
   "metadata": {},
   "source": [
    "# Data Wrangling"
   ]
  },
  {
   "cell_type": "code",
   "execution_count": 2,
   "id": "390ca6b6",
   "metadata": {},
   "outputs": [],
   "source": [
    "# US Census Bureau - Housing Vacancies and Home Ownership\n",
    "api_key =\"2aad620b118ce9f0f4d1ee4ba6c811f45dad9bdd\"\n",
    "hv_API_query1 = \"get=cell_value,time_slot_id,category_code&seasonally_adj&data_type_code&for=US&time=2021\"\n",
    "home_vac_ownership_q1 = f\"https://api.census.gov/data/timeseries/eits/hv?{hv_API_query1}&key={api_key}\"\n",
    "\n",
    "# US Dept Housing and Urban Development - PIT estimates of Homeless people\n",
    "pit_estimates_xl = \"./data/us-housing-urban-dev/2007-2021-PIT-Counts-by-State.xlsx\"\n",
    "\n",
    "# St. Louis Federal Reserve - Rental Vacancy Rates\n",
    "rental_vacancy_rates_xl = \"./data/stlouis-fed-reserve/RRVRUSQ156N.xls\""
   ]
  },
  {
   "cell_type": "code",
   "execution_count": 3,
   "id": "342b0485",
   "metadata": {},
   "outputs": [],
   "source": [
    "# Functions which return booleans whether or not\n",
    "# a string belongs to a demographic group\n",
    "def is_age(category_label: str) -> bool:\n",
    "    if not category_label:\n",
    "        return False\n",
    "    \n",
    "    if \"Under 18\" in category_label:\n",
    "        return True\n",
    "    \n",
    "    elif \"Age 18 to 24\" in category_label:\n",
    "        return True\n",
    "    \n",
    "    elif \"Over 24\" in category_label:\n",
    "        return True\n",
    "    else:\n",
    "        return False\n",
    "\n",
    "    \n",
    "def is_gender(category_label: str):\n",
    "    if not category_label:\n",
    "        return False\n",
    "    \n",
    "    if \"Female\" in category_label:\n",
    "        return True\n",
    "    \n",
    "    elif \"Male\" in category_label:\n",
    "        return True\n",
    "    \n",
    "    elif \"Transgender\" in category_label:\n",
    "        return True\n",
    "    \n",
    "    elif \"Gender Non-Conforming\" in category_label:\n",
    "        return True\n",
    "    else:\n",
    "        return False\n",
    "\n",
    "\n",
    "def is_race(category_label: str):\n",
    "    if not category_label:\n",
    "        return False\n",
    "    \n",
    "    if \"Latino\" in category_label:\n",
    "        return True\n",
    "    \n",
    "    elif \"White\" in category_label:\n",
    "        return True\n",
    "    \n",
    "    elif \"Black\" in category_label:\n",
    "        return True\n",
    "    \n",
    "    elif \"Asian\" in category_label:\n",
    "        return True\n",
    "    \n",
    "    elif \"Native\" in category_label:\n",
    "        return True\n",
    "    \n",
    "    elif \"Pacific Islander\" in category_label:\n",
    "        return True\n",
    "    \n",
    "    elif \"Multiple Races\" in category_label:\n",
    "        return True\n",
    "    else:\n",
    "        return False\n",
    "\n",
    "\n",
    "def is_chronic_homeless(category_label: str):\n",
    "    if not category_label:\n",
    "        return False\n",
    "    \n",
    "    if \"Chronically Homeless\" in category_label:\n",
    "        return True\n",
    "    else:\n",
    "        return False\n",
    "\n",
    "    \n",
    "def is_veteran(category_label: str):\n",
    "    if not category_label:\n",
    "        return False\n",
    "    \n",
    "    if \"Veteran\" in category_label:\n",
    "        return True\n",
    "    else:\n",
    "        return False\n",
    "\n",
    "def is_family(category_label: str):\n",
    "    if not category_label:\n",
    "        return False\n",
    "    \n",
    "    if \"Family\" in category_label:\n",
    "        return True\n",
    "    elif \"Families\" in category_label:\n",
    "        return True\n",
    "    else:\n",
    "        return False\n",
    "\n",
    "def is_total(category_label: str):\n",
    "    if not category_label:\n",
    "        return False\n",
    "    \n",
    "    if \"Total\" in category_label:\n",
    "        return True\n",
    "    else:\n",
    "        return False\n",
    "\n",
    "    \n",
    "def is_CoC(category_label: str):\n",
    "    if not category_label:\n",
    "        return False\n",
    "    \n",
    "    if \"CoC\" in category_label:\n",
    "        return True\n",
    "    else:\n",
    "        return False\n",
    "    \n",
    "\n",
    "def category_labels(category):\n",
    "    \"\"\"\n",
    "    Across the homelessness data, there were several categories which would be useful to compare within \n",
    "    such as age, gender, race/ethnicity, and chronic homelessness.\n",
    "\n",
    "    Will be used to label data for aggregated comparisons.\n",
    "    \n",
    "    example use:\n",
    "        df[\"category_labels\"] = df[\"category\"].apply(category_labels)\n",
    "    \"\"\"\n",
    "    if not category:\n",
    "        return 0\n",
    "        \n",
    "    if is_age(category):\n",
    "        return \"age\"\n",
    "\n",
    "    elif is_gender(category):\n",
    "        return \"gender\"\n",
    "\n",
    "    elif is_race(category):\n",
    "        return \"race\"\n",
    "\n",
    "    elif is_chronic_homeless(category):\n",
    "        return \"chronically-homeless\"\n",
    "\n",
    "    elif is_veteran(category):\n",
    "        return \"veteran\"\n",
    "    \n",
    "    elif is_family(category):\n",
    "        return \"family\"\n",
    "    \n",
    "    elif is_total(category):\n",
    "        return \"total\"\n",
    "    \n",
    "    elif is_CoC(category):\n",
    "        return \"coc\"\n",
    "    \n",
    "    else:\n",
    "        return \"unknown\"\n",
    "    \n",
    "\n",
    "def region_labels(state:str, return_sub_region = False):\n",
    "    \"\"\"\n",
    "    50 states are a lot of points to plot individually.\n",
    "    This function will be used to assign each state a region and sub region label.\n",
    "    \n",
    "    example use:\n",
    "    \n",
    "        df[\"region_labels\"] = df[\"state\"].apply(region_labels)\n",
    "        \n",
    "        OR\n",
    "        \n",
    "        df[\"region_labels\"], df[\"sub_region_labels\"] = df[\"state\"].apply(lambda x: region_labels(x, True))\n",
    "        \n",
    "    \"\"\"\n",
    "    \n",
    "    us_regions = {\n",
    "    \"North-East\": {\n",
    "        \"New England\": [\"ME\", \"NH\", \"VT\", \"MA\", \"RI\", \"CT\"],\n",
    "        \"Mid-Atlantic\": [\"NY\", \"NJ\", \"PA\"]\n",
    "    },\n",
    "    \n",
    "    \"Midwest\": {\n",
    "        \"East North Central\": [\"IL\", \"IN\", \"MI\", \"OH\", \"WI\"],\n",
    "        \"West North Central\": [\"IA\", \"KS\", \"MN\", \"MO\", \"NE\", \"ND\", \"SD\"]\n",
    "    },\n",
    "    \n",
    "    \"South\": {\n",
    "        \"South Atlantic\": [\"DE\", \"FL\", \"GA\", \"MD\", \"NC\", \"SC\", \"VA\", \"WV\"],\n",
    "        \"East South Central\": [\"AL\", \"KY\", \"MS\", \"TN\"],\n",
    "        \"West South Central\": [\"AR\", \"LA\", \"OK\", \"TX\"]\n",
    "    },\n",
    "    \n",
    "    \"West\": {\n",
    "        \"Mountain\": [\"AZ\", \"CO\", \"ID\", \"MT\", \"NV\", \"NM\", \"UT\", \"WY\"],\n",
    "        \"Pacific\": [\"AK\", \"CA\", \"HI\", \"OR\", \"WA\"]\n",
    "    }}\n",
    "    \n",
    "    # Matches the given \"state\" argument to a region and sub-region\n",
    "    for region in us_regions:\n",
    "        for sub_region in us_regions[region]:\n",
    "            if state in us_regions[region][sub_region]:\n",
    "                \n",
    "                if not return_sub_region:\n",
    "                    return region\n",
    "                else:\n",
    "                    return region, sub_region\n",
    "                \n",
    "\n",
    "def presentation_columns(title: str):\n",
    "    \"\"\"\n",
    "    Cleans up the demographic group names for plotting.   \n",
    "    \"\"\"\n",
    "    # If the title splits, then it is split on \" - \"\n",
    "    # Otherwise, alternative string\n",
    "    if len(title.split(\" - \")) > 1:\n",
    "        return title.split(\" - \")[1].replace(\", 2021\", \"\")\n",
    "    else:\n",
    "        return title.replace(\"Sheltered \", \"\").replace(\", 2021\", \"\")\n",
    "\n",
    "\n",
    "def contains_null(DataFrame):\n",
    "    if not DataFrame.isnull().values.any():\n",
    "        print(\"No null values found in this dataset!\")\n",
    "    else:\n",
    "        print(\"There are null values present in the dataset!\")"
   ]
  },
  {
   "cell_type": "markdown",
   "id": "c994919b-0631-4a50-a355-d5be130f8e14",
   "metadata": {},
   "source": [
    "## Data Analysis\n",
    "\n",
    "### Home Vacancy and Ownership rates\n",
    "<hr>"
   ]
  },
  {
   "cell_type": "markdown",
   "id": "e91b9a12",
   "metadata": {},
   "source": [
    "This data comes from the US Census Bureau, however it is important to keep in mind that due to public health safety procedures there are large gaps in data collection (see: [COVID-19s impact on Census Data collection](https://www.census.gov/housing/hvs/files/qtr420/impact_coronavirus_20q4.pdf)) since the beginning of the COVID-19 pandemic and this has affected counts especially in more remote regions in the United States. "
   ]
  },
  {
   "cell_type": "code",
   "execution_count": 4,
   "id": "ba95ddb2",
   "metadata": {},
   "outputs": [],
   "source": [
    "home_vac_ownership_data = requests.get(home_vac_ownership_q1).json()\n",
    "home_vac_ownership_df = pd.DataFrame(home_vac_ownership_data[1:], columns=home_vac_ownership_data[0])\n",
    "\n",
    "# Converts the column \"cell_value\" from strings to floats, row-wise\n",
    "home_vac_ownership_df[\"cell_value\"] = home_vac_ownership_df[\"cell_value\"].apply(float)"
   ]
  },
  {
   "cell_type": "code",
   "execution_count": 5,
   "id": "d6bc5ce6",
   "metadata": {},
   "outputs": [
    {
     "name": "stdout",
     "output_type": "stream",
     "text": [
      "No null values found in this dataset!\n"
     ]
    }
   ],
   "source": [
    "contains_null(home_vac_ownership_df)"
   ]
  },
  {
   "cell_type": "code",
   "execution_count": 6,
   "id": "0afe3f4e",
   "metadata": {},
   "outputs": [
    {
     "data": {
      "text/html": [
       "<div>\n",
       "<style scoped>\n",
       "    .dataframe tbody tr th:only-of-type {\n",
       "        vertical-align: middle;\n",
       "    }\n",
       "\n",
       "    .dataframe tbody tr th {\n",
       "        vertical-align: top;\n",
       "    }\n",
       "\n",
       "    .dataframe thead th {\n",
       "        text-align: right;\n",
       "    }\n",
       "</style>\n",
       "<table border=\"1\" class=\"dataframe\">\n",
       "  <thead>\n",
       "    <tr style=\"text-align: right;\">\n",
       "      <th></th>\n",
       "      <th>cell_value</th>\n",
       "      <th>time_slot_id</th>\n",
       "      <th>category_code</th>\n",
       "      <th>seasonally_adj</th>\n",
       "      <th>data_type_code</th>\n",
       "      <th>time</th>\n",
       "      <th>us</th>\n",
       "    </tr>\n",
       "  </thead>\n",
       "  <tbody>\n",
       "    <tr>\n",
       "      <th>0</th>\n",
       "      <td>141489.0</td>\n",
       "      <td>1365</td>\n",
       "      <td>ESTIMATE</td>\n",
       "      <td>no</td>\n",
       "      <td>TOTAL</td>\n",
       "      <td>2021-Q1</td>\n",
       "      <td>1</td>\n",
       "    </tr>\n",
       "    <tr>\n",
       "      <th>1</th>\n",
       "      <td>125901.0</td>\n",
       "      <td>1365</td>\n",
       "      <td>ESTIMATE</td>\n",
       "      <td>no</td>\n",
       "      <td>OCC</td>\n",
       "      <td>2021-Q1</td>\n",
       "      <td>1</td>\n",
       "    </tr>\n",
       "    <tr>\n",
       "      <th>2</th>\n",
       "      <td>82558.0</td>\n",
       "      <td>1365</td>\n",
       "      <td>ESTIMATE</td>\n",
       "      <td>no</td>\n",
       "      <td>OWNOCC</td>\n",
       "      <td>2021-Q1</td>\n",
       "      <td>1</td>\n",
       "    </tr>\n",
       "    <tr>\n",
       "      <th>3</th>\n",
       "      <td>43343.0</td>\n",
       "      <td>1365</td>\n",
       "      <td>ESTIMATE</td>\n",
       "      <td>no</td>\n",
       "      <td>RNTOCC</td>\n",
       "      <td>2021-Q1</td>\n",
       "      <td>1</td>\n",
       "    </tr>\n",
       "    <tr>\n",
       "      <th>4</th>\n",
       "      <td>15587.0</td>\n",
       "      <td>1365</td>\n",
       "      <td>ESTIMATE</td>\n",
       "      <td>no</td>\n",
       "      <td>VACANT</td>\n",
       "      <td>2021-Q1</td>\n",
       "      <td>1</td>\n",
       "    </tr>\n",
       "  </tbody>\n",
       "</table>\n",
       "</div>"
      ],
      "text/plain": [
       "   cell_value time_slot_id category_code seasonally_adj data_type_code  \\\n",
       "0    141489.0         1365      ESTIMATE             no          TOTAL   \n",
       "1    125901.0         1365      ESTIMATE             no            OCC   \n",
       "2     82558.0         1365      ESTIMATE             no         OWNOCC   \n",
       "3     43343.0         1365      ESTIMATE             no         RNTOCC   \n",
       "4     15587.0         1365      ESTIMATE             no         VACANT   \n",
       "\n",
       "      time us  \n",
       "0  2021-Q1  1  \n",
       "1  2021-Q1  1  \n",
       "2  2021-Q1  1  \n",
       "3  2021-Q1  1  \n",
       "4  2021-Q1  1  "
      ]
     },
     "execution_count": 6,
     "metadata": {},
     "output_type": "execute_result"
    }
   ],
   "source": [
    "home_vac_ownership_df.head()"
   ]
  },
  {
   "cell_type": "markdown",
   "id": "61f64a60",
   "metadata": {},
   "source": [
    "Judging from the \"data_type_code\" column, we will need a DataFrame containing all the rows marked with \"VACANT\". "
   ]
  },
  {
   "cell_type": "code",
   "execution_count": 7,
   "id": "05e3e9a1-44b9-4bb3-be06-e35c2fe22bb4",
   "metadata": {},
   "outputs": [],
   "source": [
    "# Average across rows marked as vacancies (Q1-Q4, 2021)\n",
    "vacancy_rate_yr = home_vac_ownership_df[home_vac_ownership_df[\"data_type_code\"] == \"VACANT\"].copy()\n",
    "vacancy_rate_yr[\"Quarter\"] = home_vac_ownership_df[\"time\"].apply(lambda x: x[-1:])"
   ]
  },
  {
   "cell_type": "code",
   "execution_count": 8,
   "id": "028be5cc",
   "metadata": {},
   "outputs": [
    {
     "data": {
      "text/html": [
       "<div>\n",
       "<style scoped>\n",
       "    .dataframe tbody tr th:only-of-type {\n",
       "        vertical-align: middle;\n",
       "    }\n",
       "\n",
       "    .dataframe tbody tr th {\n",
       "        vertical-align: top;\n",
       "    }\n",
       "\n",
       "    .dataframe thead th {\n",
       "        text-align: right;\n",
       "    }\n",
       "</style>\n",
       "<table border=\"1\" class=\"dataframe\">\n",
       "  <thead>\n",
       "    <tr style=\"text-align: right;\">\n",
       "      <th></th>\n",
       "      <th>cell_value</th>\n",
       "    </tr>\n",
       "  </thead>\n",
       "  <tbody>\n",
       "    <tr>\n",
       "      <th>count</th>\n",
       "      <td>4.000000</td>\n",
       "    </tr>\n",
       "    <tr>\n",
       "      <th>mean</th>\n",
       "      <td>15346.500000</td>\n",
       "    </tr>\n",
       "    <tr>\n",
       "      <th>std</th>\n",
       "      <td>320.151527</td>\n",
       "    </tr>\n",
       "    <tr>\n",
       "      <th>min</th>\n",
       "      <td>14975.000000</td>\n",
       "    </tr>\n",
       "    <tr>\n",
       "      <th>25%</th>\n",
       "      <td>15132.500000</td>\n",
       "    </tr>\n",
       "    <tr>\n",
       "      <th>50%</th>\n",
       "      <td>15386.000000</td>\n",
       "    </tr>\n",
       "    <tr>\n",
       "      <th>75%</th>\n",
       "      <td>15600.000000</td>\n",
       "    </tr>\n",
       "    <tr>\n",
       "      <th>max</th>\n",
       "      <td>15639.000000</td>\n",
       "    </tr>\n",
       "  </tbody>\n",
       "</table>\n",
       "</div>"
      ],
      "text/plain": [
       "         cell_value\n",
       "count      4.000000\n",
       "mean   15346.500000\n",
       "std      320.151527\n",
       "min    14975.000000\n",
       "25%    15132.500000\n",
       "50%    15386.000000\n",
       "75%    15600.000000\n",
       "max    15639.000000"
      ]
     },
     "execution_count": 8,
     "metadata": {},
     "output_type": "execute_result"
    }
   ],
   "source": [
    "vacancy_rate_yr.describe()"
   ]
  },
  {
   "cell_type": "code",
   "execution_count": 9,
   "id": "a1272654",
   "metadata": {},
   "outputs": [
    {
     "data": {
      "text/plain": [
       "[Text(0.5, 1.0, 'Total Vacant Homes over 2021\\n'),\n",
       " Text(0.5, 0, 'VACANT'),\n",
       " Text(0, 0.5, 'Number of Vacant Homes\\n')]"
      ]
     },
     "execution_count": 9,
     "metadata": {},
     "output_type": "execute_result"
    },
    {
     "data": {
      "image/png": "[encoded data removed]",
      "text/plain": [
       "<Figure size 432x288 with 1 Axes>"
      ]
     },
     "metadata": {
      "needs_background": "light"
     },
     "output_type": "display_data"
    }
   ],
   "source": [
    "vacancy_boxplot = sb.boxplot(data=vacancy_rate_yr, y=\"cell_value\")\n",
    "vacancy_boxplot.set(\n",
    "    title=\"Total Vacant Homes over 2021\\n\",\n",
    "    xlabel=\"VACANT\",\n",
    "    ylabel=\"Number of Vacant Homes\\n\"\n",
    ")"
   ]
  },
  {
   "cell_type": "markdown",
   "id": "976f53f5",
   "metadata": {},
   "source": [
    "Using the DataFrame.describe() method is a quick way to generate a helpful table of summary statistics and the boxplot below visually confirms the statistical description from the table above.\n",
    "\n",
    "Some measures to take note of:\n",
    "\n",
    "| Number of Vacant Homes | count |\n",
    "| :--- | :--: |\n",
    "|Minimum |14,975|\n",
    "|Mean|15,347|\n",
    "|Median|15,386|\n",
    "|Max|15,639|\n",
    "    \n",
    "Knowing the minimum and the maximum of the distribution of data illuminates outliers which might skew our average. The median is the \"middle most\" value which means that 50% of all datapoints lie below/above it. The mean and the median having a difference of $40$ vacant homes means the average (in this case) does a good job of describing the middle of the data.\n",
    "\n",
    "From this, I would say that at any given point in the year of 2021, a person could expect $15,347$ homes to be vacant (give or take 320 homes)."
   ]
  },
  {
   "cell_type": "code",
   "execution_count": 10,
   "id": "943d858c",
   "metadata": {},
   "outputs": [
    {
     "data": {
      "text/plain": [
       "<seaborn.axisgrid.FacetGrid at 0x2a57a22a160>"
      ]
     },
     "execution_count": 10,
     "metadata": {},
     "output_type": "execute_result"
    },
    {
     "data": {
      "image/png": "[encoded data removed]",
      "text/plain": [
       "<Figure size 360x360 with 1 Axes>"
      ]
     },
     "metadata": {
      "needs_background": "light"
     },
     "output_type": "display_data"
    }
   ],
   "source": [
    "home_vacancies_plot = sb.catplot(data=vacancy_rate_yr, x=\"Quarter\", y=\"cell_value\", kind=\"bar\")\n",
    "home_vacancies_plot.set(\n",
    "    ylim=(13_000, 16_000), \n",
    "    ylabel=\"Number of Vacant Homes\",\n",
    "    title=\"Number of Vacant Homes throughout 2021 (Q1-Q4)\\n\"\n",
    ")"
   ]
  },
  {
   "cell_type": "markdown",
   "id": "9a552757",
   "metadata": {},
   "source": [
    "To get a better idea of the quantity of vacant homes over the course of 2021, I measured each Quarter on the x-axis and the Number of Vacant Homes on the y-axis. By adding the dimension of time on the x-axis, this bar graph best demonstrates the change in the number of vacant homes over time.\n",
    "\n",
    "From this visualization we can surmise that as 2021 continued, the number of vacant homes decreased from around $15,500$ to less than $15,000$."
   ]
  },
  {
   "cell_type": "markdown",
   "id": "35ec8e83",
   "metadata": {},
   "source": [
    "# Homeless Population Estimate\n",
    "<hr>\n",
    "\n",
    "What is a PIT estimate?\n",
    "\n",
    "\n",
    "According to the US Department of Housing and Urban development, the PIT estimate can be described like so:\n",
    "\n",
    "    The Point-in-Time (PIT) count is a count of sheltered and unsheltered people experiencing homelessness on a single night in January."
   ]
  },
  {
   "cell_type": "code",
   "execution_count": 11,
   "id": "42e3ba52",
   "metadata": {},
   "outputs": [],
   "source": [
    "# Dropped rows:\n",
    "#    [3] America Samoa\n",
    "#    [8] District of Columbia\n",
    "#    [12] Guam\n",
    "#    [27] Northern Mariana Islands\n",
    "#    [42] Puerto Rico\n",
    "#    [50] Virgin Islands\n",
    "#    [56] Totals for dataset\n",
    "non_state_territories = [3, 8, 12, 27, 42, 50, 56]\n",
    "\n",
    "pit_estimates_df = pd.read_excel(pit_estimates_xl)\n",
    "pit_estimates_df = pit_estimates_df.drop(non_state_territories, axis=0).reset_index(drop=True)"
   ]
  },
  {
   "cell_type": "markdown",
   "id": "157dfd0f",
   "metadata": {},
   "source": [
    "In preparing this next dataset, I found that the records belonging to United States non-state territories tended to be incomplete. This and in the interest of comparing Homeless Population Estimates in the United States I filtered the dataset to only include the offical 50 state territories."
   ]
  },
  {
   "cell_type": "code",
   "execution_count": 12,
   "id": "9c79710b",
   "metadata": {},
   "outputs": [
    {
     "name": "stdout",
     "output_type": "stream",
     "text": [
      "No null values found in this dataset!\n"
     ]
    }
   ],
   "source": [
    "contains_null(pit_estimates_df)"
   ]
  },
  {
   "cell_type": "code",
   "execution_count": 13,
   "id": "b2785121",
   "metadata": {},
   "outputs": [
    {
     "data": {
      "text/plain": [
       "(50, 349)"
      ]
     },
     "execution_count": 13,
     "metadata": {},
     "output_type": "execute_result"
    }
   ],
   "source": [
    "pit_estimates_df.shape"
   ]
  },
  {
   "cell_type": "markdown",
   "id": "ecd57cb1",
   "metadata": {},
   "source": [
    "Just checking the shape of the data, there are 50 rows (one for each state in the US) and 349 columns. With that many columns compared to rows, this dataset is quite wide and untidy."
   ]
  },
  {
   "cell_type": "code",
   "execution_count": 14,
   "id": "2052c297",
   "metadata": {},
   "outputs": [
    {
     "data": {
      "text/html": [
       "<div>\n",
       "<style scoped>\n",
       "    .dataframe tbody tr th:only-of-type {\n",
       "        vertical-align: middle;\n",
       "    }\n",
       "\n",
       "    .dataframe tbody tr th {\n",
       "        vertical-align: top;\n",
       "    }\n",
       "\n",
       "    .dataframe thead th {\n",
       "        text-align: right;\n",
       "    }\n",
       "</style>\n",
       "<table border=\"1\" class=\"dataframe\">\n",
       "  <thead>\n",
       "    <tr style=\"text-align: right;\">\n",
       "      <th></th>\n",
       "      <th>State</th>\n",
       "      <th>Number of CoCs</th>\n",
       "      <th>Sheltered ES Homeless, 2021</th>\n",
       "      <th>Sheltered ES Homeless - Under 18, 2021</th>\n",
       "      <th>Sheltered ES Homeless - Age 18 to 24, 2021</th>\n",
       "      <th>Sheltered ES Homeless - Over 24, 2021</th>\n",
       "      <th>Sheltered ES Homeless - Female, 2021</th>\n",
       "      <th>Sheltered ES Homeless - Male, 2021</th>\n",
       "      <th>Sheltered ES Homeless - Transgender, 2021</th>\n",
       "      <th>Sheltered ES Homeless - Gender Non-Conforming, 2021</th>\n",
       "      <th>...</th>\n",
       "      <th>Sheltered Total Homeless Parenting Youth (Under 25) - Multiple Races, 2021</th>\n",
       "      <th>Sheltered ES Homeless Parenting Youth Under 18, 2021</th>\n",
       "      <th>Sheltered TH Homeless Parenting Youth Under 18, 2021</th>\n",
       "      <th>Sheltered Total Homeless Parenting Youth Under 18, 2021</th>\n",
       "      <th>Sheltered ES Homeless Parenting Youth Age 18-24, 2021</th>\n",
       "      <th>Sheltered TH Homeless Parenting Youth Age 18-24, 2021</th>\n",
       "      <th>Sheltered Total Homeless Parenting Youth Age 18-24, 2021</th>\n",
       "      <th>Sheltered ES Homeless Children of Parenting Youth, 2021</th>\n",
       "      <th>Sheltered TH Homeless Children of Parenting Youth, 2021</th>\n",
       "      <th>Sheltered Total Homeless Children of Parenting Youth, 2021</th>\n",
       "    </tr>\n",
       "  </thead>\n",
       "  <tbody>\n",
       "    <tr>\n",
       "      <th>0</th>\n",
       "      <td>AK</td>\n",
       "      <td>2</td>\n",
       "      <td>1360</td>\n",
       "      <td>145</td>\n",
       "      <td>151</td>\n",
       "      <td>1064</td>\n",
       "      <td>405</td>\n",
       "      <td>954</td>\n",
       "      <td>1</td>\n",
       "      <td>0</td>\n",
       "      <td>...</td>\n",
       "      <td>9</td>\n",
       "      <td>0</td>\n",
       "      <td>0</td>\n",
       "      <td>0</td>\n",
       "      <td>35</td>\n",
       "      <td>23</td>\n",
       "      <td>58</td>\n",
       "      <td>29</td>\n",
       "      <td>32</td>\n",
       "      <td>61</td>\n",
       "    </tr>\n",
       "    <tr>\n",
       "      <th>1</th>\n",
       "      <td>AL</td>\n",
       "      <td>8</td>\n",
       "      <td>1095</td>\n",
       "      <td>194</td>\n",
       "      <td>44</td>\n",
       "      <td>857</td>\n",
       "      <td>434</td>\n",
       "      <td>657</td>\n",
       "      <td>3</td>\n",
       "      <td>1</td>\n",
       "      <td>...</td>\n",
       "      <td>2</td>\n",
       "      <td>0</td>\n",
       "      <td>0</td>\n",
       "      <td>0</td>\n",
       "      <td>8</td>\n",
       "      <td>5</td>\n",
       "      <td>13</td>\n",
       "      <td>11</td>\n",
       "      <td>7</td>\n",
       "      <td>18</td>\n",
       "    </tr>\n",
       "    <tr>\n",
       "      <th>2</th>\n",
       "      <td>AR</td>\n",
       "      <td>5</td>\n",
       "      <td>1169</td>\n",
       "      <td>132</td>\n",
       "      <td>99</td>\n",
       "      <td>938</td>\n",
       "      <td>421</td>\n",
       "      <td>747</td>\n",
       "      <td>0</td>\n",
       "      <td>1</td>\n",
       "      <td>...</td>\n",
       "      <td>0</td>\n",
       "      <td>0</td>\n",
       "      <td>0</td>\n",
       "      <td>0</td>\n",
       "      <td>7</td>\n",
       "      <td>0</td>\n",
       "      <td>7</td>\n",
       "      <td>8</td>\n",
       "      <td>0</td>\n",
       "      <td>8</td>\n",
       "    </tr>\n",
       "    <tr>\n",
       "      <th>3</th>\n",
       "      <td>AZ</td>\n",
       "      <td>3</td>\n",
       "      <td>3822</td>\n",
       "      <td>921</td>\n",
       "      <td>206</td>\n",
       "      <td>2695</td>\n",
       "      <td>1709</td>\n",
       "      <td>2100</td>\n",
       "      <td>11</td>\n",
       "      <td>2</td>\n",
       "      <td>...</td>\n",
       "      <td>10</td>\n",
       "      <td>0</td>\n",
       "      <td>1</td>\n",
       "      <td>1</td>\n",
       "      <td>39</td>\n",
       "      <td>46</td>\n",
       "      <td>85</td>\n",
       "      <td>54</td>\n",
       "      <td>57</td>\n",
       "      <td>111</td>\n",
       "    </tr>\n",
       "    <tr>\n",
       "      <th>4</th>\n",
       "      <td>CA</td>\n",
       "      <td>44</td>\n",
       "      <td>40662</td>\n",
       "      <td>8268</td>\n",
       "      <td>2191</td>\n",
       "      <td>30203</td>\n",
       "      <td>17690</td>\n",
       "      <td>22701</td>\n",
       "      <td>208</td>\n",
       "      <td>63</td>\n",
       "      <td>...</td>\n",
       "      <td>38</td>\n",
       "      <td>1</td>\n",
       "      <td>4</td>\n",
       "      <td>5</td>\n",
       "      <td>373</td>\n",
       "      <td>254</td>\n",
       "      <td>627</td>\n",
       "      <td>497</td>\n",
       "      <td>295</td>\n",
       "      <td>792</td>\n",
       "    </tr>\n",
       "  </tbody>\n",
       "</table>\n",
       "<p>5 rows × 349 columns</p>\n",
       "</div>"
      ],
      "text/plain": [
       "  State  Number of CoCs Sheltered ES Homeless, 2021  \\\n",
       "0    AK               2                        1360   \n",
       "1    AL               8                        1095   \n",
       "2    AR               5                        1169   \n",
       "3    AZ               3                        3822   \n",
       "4    CA              44                       40662   \n",
       "\n",
       "  Sheltered ES Homeless - Under 18, 2021  \\\n",
       "0                                    145   \n",
       "1                                    194   \n",
       "2                                    132   \n",
       "3                                    921   \n",
       "4                                   8268   \n",
       "\n",
       "  Sheltered ES Homeless - Age 18 to 24, 2021  \\\n",
       "0                                        151   \n",
       "1                                         44   \n",
       "2                                         99   \n",
       "3                                        206   \n",
       "4                                       2191   \n",
       "\n",
       "  Sheltered ES Homeless - Over 24, 2021 Sheltered ES Homeless - Female, 2021  \\\n",
       "0                                  1064                                  405   \n",
       "1                                   857                                  434   \n",
       "2                                   938                                  421   \n",
       "3                                  2695                                 1709   \n",
       "4                                 30203                                17690   \n",
       "\n",
       "  Sheltered ES Homeless - Male, 2021  \\\n",
       "0                                954   \n",
       "1                                657   \n",
       "2                                747   \n",
       "3                               2100   \n",
       "4                              22701   \n",
       "\n",
       "  Sheltered ES Homeless - Transgender, 2021  \\\n",
       "0                                         1   \n",
       "1                                         3   \n",
       "2                                         0   \n",
       "3                                        11   \n",
       "4                                       208   \n",
       "\n",
       "  Sheltered ES Homeless - Gender Non-Conforming, 2021  ...  \\\n",
       "0                                                  0   ...   \n",
       "1                                                  1   ...   \n",
       "2                                                  1   ...   \n",
       "3                                                  2   ...   \n",
       "4                                                 63   ...   \n",
       "\n",
       "  Sheltered Total Homeless Parenting Youth (Under 25) - Multiple Races, 2021  \\\n",
       "0                                                  9                           \n",
       "1                                                  2                           \n",
       "2                                                  0                           \n",
       "3                                                 10                           \n",
       "4                                                 38                           \n",
       "\n",
       "  Sheltered ES Homeless Parenting Youth Under 18, 2021  \\\n",
       "0                                                  0     \n",
       "1                                                  0     \n",
       "2                                                  0     \n",
       "3                                                  0     \n",
       "4                                                  1     \n",
       "\n",
       "  Sheltered TH Homeless Parenting Youth Under 18, 2021  \\\n",
       "0                                                  0     \n",
       "1                                                  0     \n",
       "2                                                  0     \n",
       "3                                                  1     \n",
       "4                                                  4     \n",
       "\n",
       "  Sheltered Total Homeless Parenting Youth Under 18, 2021  \\\n",
       "0                                                  0        \n",
       "1                                                  0        \n",
       "2                                                  0        \n",
       "3                                                  1        \n",
       "4                                                  5        \n",
       "\n",
       "  Sheltered ES Homeless Parenting Youth Age 18-24, 2021  \\\n",
       "0                                                 35      \n",
       "1                                                  8      \n",
       "2                                                  7      \n",
       "3                                                 39      \n",
       "4                                                373      \n",
       "\n",
       "  Sheltered TH Homeless Parenting Youth Age 18-24, 2021  \\\n",
       "0                                                 23      \n",
       "1                                                  5      \n",
       "2                                                  0      \n",
       "3                                                 46      \n",
       "4                                                254      \n",
       "\n",
       "  Sheltered Total Homeless Parenting Youth Age 18-24, 2021  \\\n",
       "0                                                 58         \n",
       "1                                                 13         \n",
       "2                                                  7         \n",
       "3                                                 85         \n",
       "4                                                627         \n",
       "\n",
       "  Sheltered ES Homeless Children of Parenting Youth, 2021  \\\n",
       "0                                                 29        \n",
       "1                                                 11        \n",
       "2                                                  8        \n",
       "3                                                 54        \n",
       "4                                                497        \n",
       "\n",
       "  Sheltered TH Homeless Children of Parenting Youth, 2021  \\\n",
       "0                                                 32        \n",
       "1                                                  7        \n",
       "2                                                  0        \n",
       "3                                                 57        \n",
       "4                                                295        \n",
       "\n",
       "  Sheltered Total Homeless Children of Parenting Youth, 2021  \n",
       "0                                                 61          \n",
       "1                                                 18          \n",
       "2                                                  8          \n",
       "3                                                111          \n",
       "4                                                792          \n",
       "\n",
       "[5 rows x 349 columns]"
      ]
     },
     "execution_count": 14,
     "metadata": {},
     "output_type": "execute_result"
    }
   ],
   "source": [
    "pit_estimates_df.head()"
   ]
  },
  {
   "cell_type": "markdown",
   "id": "8b036dce",
   "metadata": {},
   "source": [
    "After inspecting the datasets columns, I came up with the following groups to make comparisons on:\n",
    "\n",
    "Aggregated into regions and subregions as defined by US Census Bureau's [economic regions](https://www2.census.gov/programs-surveys/economic-census/2017/guidance/geonotes/us/2017_EC_Regions.pdf):\n",
    "    \n",
    "    Region\n",
    "    \n",
    "    Subregion\n",
    "\n",
    "<hr>\n",
    "\n",
    "Demographics:\n",
    "\n",
    "    Number of Continuums of Care\n",
    "\n",
    "    Age\n",
    "\n",
    "    Race\n",
    "\n",
    "    Gender\n",
    "\n",
    "    Chronically Homeless"
   ]
  },
  {
   "cell_type": "code",
   "execution_count": 15,
   "id": "6fd4b200",
   "metadata": {},
   "outputs": [],
   "source": [
    "# List comprehension which filters out the more granular categories in the data\n",
    "# so we can focus on answering the question of \"How many sheltered homeless people are estimated to live in the US?\"\n",
    "totals_columns = [\"State\", \"Number of CoCs\"] + [\n",
    "    col \n",
    "    for col in pit_estimates_df.columns \n",
    "    if \"Total\" in col\n",
    "    \n",
    "    # Filtered out columns\n",
    "    if \"Families\" not in col\n",
    "    if \"Individuals\" not in col\n",
    "    if \"Youth\" not in col\n",
    "    if \"Children\" not in col\n",
    "    if \"Veterans\" not in col\n",
    "]\n",
    "category_totals = pit_estimates_df[totals_columns].copy()"
   ]
  },
  {
   "cell_type": "markdown",
   "id": "e19b62b7",
   "metadata": {},
   "source": [
    "Among the columns containing totals for the homeless population estimates, I filtred specifically for the columns which contain the total population estimate per state, while preserving the different demographic groups. \n",
    "\n",
    "(For example \"Age\" has 3 groups: <18, 18-24, >24)"
   ]
  },
  {
   "cell_type": "code",
   "execution_count": 16,
   "id": "c1cda696",
   "metadata": {},
   "outputs": [],
   "source": [
    "# Lambda work-around from article referenced below:\n",
    "# https://www.adamsmith.haus/python/answers/how-to-apply-a-function-with-multiple-arguments-to-create-a-new-pandas-dataframe-column-in-python\n",
    "category_totals[\"region_labels\"] = category_totals[\"State\"].apply(region_labels)\n",
    "category_totals[\"sub_region_labels\"] = category_totals[\"State\"].apply(lambda x: region_labels(x, True)[1])\n",
    "\n",
    "category_totals = category_totals.melt(id_vars=[\"region_labels\", \"sub_region_labels\", \"State\"], var_name=\"demographic\")\n",
    "\n",
    "category_totals[\"demographic_category\"] = category_totals[\"demographic\"].apply(category_labels) \n",
    "category_totals[\"demographic\"] = category_totals[\"demographic\"].apply(presentation_columns)"
   ]
  },
  {
   "cell_type": "markdown",
   "id": "f5b391b9",
   "metadata": {},
   "source": [
    "While the cells above mostly dealt with loading and filtering the data, the cell immediately above is where most of the data transformation really takes off. Earlier in my analysis, I mentioned that the dataset was wider than it is tall and I address that issue here using the melt() method, so I could group demographics into their respective categories (e.g. \"coc\", \"age\", \"race\", etc)."
   ]
  },
  {
   "cell_type": "code",
   "execution_count": 17,
   "id": "c2659cc9",
   "metadata": {},
   "outputs": [],
   "source": [
    "# Splits dataframes into demographic categories for more granular comparisons\n",
    "states_totals_df = category_totals[category_totals[\"demographic_category\"] == \"total\"].copy()\n",
    "CoC_df = category_totals[category_totals[\"demographic_category\"] == \"coc\"].copy()\n",
    "age_df = category_totals[category_totals[\"demographic_category\"] == \"age\"].copy()\n",
    "race_df = category_totals[category_totals[\"demographic_category\"] == \"race\"].copy()\n",
    "gender_df = category_totals[category_totals[\"demographic_category\"] == \"gender\"].copy()\n",
    "chrnc_df = category_totals[category_totals[\"demographic_category\"] == \"chronically-homeless\"].copy()"
   ]
  },
  {
   "cell_type": "code",
   "execution_count": 18,
   "id": "f9c81e51",
   "metadata": {},
   "outputs": [],
   "source": [
    "sum_groupby = lambda x: x.groupby([\"region_labels\", \"sub_region_labels\", \"demographic\"]).agg({\"value\":np.sum}).reset_index()\n",
    "\n",
    "\n",
    "regions_sum_groupby = states_totals_df.groupby([\"region_labels\", \"demographic\"]).agg({\"value\":np.sum}).reset_index()\n",
    "\n",
    "sub_regions_sum_groupby = sum_groupby(states_totals_df)\n",
    "coc_subregion_sum_groupby = sum_groupby(CoC_df)\n",
    "race_subregion_sum_groupby = sum_groupby(race_df)\n",
    "gender_subregion_sum_groupby = sum_groupby(gender_df)\n",
    "chrnc_subregion_sum_groupby = sum_groupby(chrnc_df)"
   ]
  },
  {
   "cell_type": "markdown",
   "id": "cb18b6a1",
   "metadata": {},
   "source": [
    "In these cells, I split the dataset up into its respective demographic groups and then aggregate the population estimates by subregion and region into sums. "
   ]
  },
  {
   "cell_type": "markdown",
   "id": "d0b7d2b2",
   "metadata": {},
   "source": [
    "# PIT Estimate Totals Distribution"
   ]
  },
  {
   "cell_type": "markdown",
   "id": "a0381d39",
   "metadata": {},
   "source": [
    "Before diving in too deeply into the individual demographic categories, I'd like to plot the distribution of the totals in the dataset. Since the graphs are primarily concerned with visualizing all demographic totals belonging to all 50 states, it should allow for me to get a better intuition of which datapoints could be considered outliers."
   ]
  },
  {
   "cell_type": "code",
   "execution_count": 19,
   "id": "dc939424",
   "metadata": {},
   "outputs": [
    {
     "data": {
      "image/png": "[encoded data removed]",
      "text/plain": [
       "<Figure size 1440x576 with 2 Axes>"
      ]
     },
     "metadata": {
      "needs_background": "light"
     },
     "output_type": "display_data"
    }
   ],
   "source": [
    "fig, axes = plt.subplots(2, 1, figsize=(20, 8))\n",
    "\n",
    "totals_boxplot = sb.boxplot(ax=axes[0], data=states_totals_df, x=\"value\")\n",
    "totals_hist = sb.histplot(ax=axes[1], data=states_totals_df, x=\"value\", bins=45, kde=True)"
   ]
  },
  {
   "cell_type": "code",
   "execution_count": 20,
   "id": "fba4341a",
   "metadata": {},
   "outputs": [
    {
     "name": "stdout",
     "output_type": "stream",
     "text": [
      "The Total Estimated Sheltered Homeless Population in the US: 320,992\n"
     ]
    }
   ],
   "source": [
    "print(\"The Total Estimated Sheltered Homeless Population in the US: {0:,}\".format(states_totals_df.value.sum()))"
   ]
  },
  {
   "cell_type": "markdown",
   "id": "658a701e",
   "metadata": {},
   "source": [
    "# Total PIT Estimates by Region and Sub-region"
   ]
  },
  {
   "cell_type": "code",
   "execution_count": 21,
   "id": "3c511e55",
   "metadata": {},
   "outputs": [
    {
     "data": {
      "text/plain": [
       "[Text(0, 0, 'East North Central'),\n",
       " Text(1, 0, 'West North Central'),\n",
       " Text(2, 0, 'Mid-Atlantic'),\n",
       " Text(3, 0, 'New England'),\n",
       " Text(4, 0, 'East South Central'),\n",
       " Text(5, 0, 'South Atlantic'),\n",
       " Text(6, 0, 'West South Central'),\n",
       " Text(7, 0, 'Mountain'),\n",
       " Text(8, 0, 'Pacific')]"
      ]
     },
     "execution_count": 21,
     "metadata": {},
     "output_type": "execute_result"
    },
    {
     "data": {
      "image/png": "[encoded data removed]",
      "text/plain": [
       "<Figure size 1440x720 with 2 Axes>"
      ]
     },
     "metadata": {
      "needs_background": "light"
     },
     "output_type": "display_data"
    }
   ],
   "source": [
    "fig, axes = plt.subplots(1, 2, figsize=(20, 10))\n",
    "\n",
    "# Try to create a groupby \"region_labels\", get the sum for plotting here\n",
    "regions_totals_barplot = sb.barplot(ax=axes[0], data=regions_sum_groupby, x=\"region_labels\", y=\"value\", ci=False)\n",
    "regions_totals_barplot.set(\n",
    "    title=\"PIT Estimate Total by Region\\n\", \n",
    "    xlabel=\"\\nRegion\", \n",
    "    ylabel=\"Homeless Population Estimate\\n\"\n",
    ")\n",
    "\n",
    "# Same thing here but with \"sub_region_labels\"\n",
    "sub_regions_totals_barplot = sb.barplot(\n",
    "    ax=axes[1], \n",
    "    data=sub_regions_sum_groupby, \n",
    "    x=\"sub_region_labels\", \n",
    "    y=\"value\",\n",
    "    hue=\"region_labels\",\n",
    "    ci=False\n",
    ")\n",
    "sub_regions_totals_barplot.set(\n",
    "    title=\"PIT Estimate Total by Subregion\\n\", \n",
    "    xlabel=\"\\nSubregion\", \n",
    "    ylabel=\"Homeless Population Estimate\\n\"\n",
    ")\n",
    "sub_regions_totals_barplot.set_xticklabels(sub_regions_totals_barplot.get_xticklabels(), rotation=45)"
   ]
  },
  {
   "cell_type": "markdown",
   "id": "87b55e15",
   "metadata": {},
   "source": [
    "From the two barcharts above, a few things stand out to me:\n",
    "\n",
    "1. The Mid-Atlantic and the Pacific reported significant PIT Estimates, especially compared to other subregions.\n",
    "2. When looking at the PIT estimate totals across regions, the North-East and the West reported totals of just under 120,000 people and just under 100,000 people respectively.\n",
    "3. While informative, using graphs alone can be less precise than I'd like so I'm going to aggregate the data into tables for more straightforward comparisons."
   ]
  },
  {
   "cell_type": "code",
   "execution_count": 22,
   "id": "bd529693",
   "metadata": {},
   "outputs": [
    {
     "data": {
      "text/html": [
       "<div>\n",
       "<style scoped>\n",
       "    .dataframe tbody tr th:only-of-type {\n",
       "        vertical-align: middle;\n",
       "    }\n",
       "\n",
       "    .dataframe tbody tr th {\n",
       "        vertical-align: top;\n",
       "    }\n",
       "\n",
       "    .dataframe thead th {\n",
       "        text-align: right;\n",
       "    }\n",
       "</style>\n",
       "<table border=\"1\" class=\"dataframe\">\n",
       "  <thead>\n",
       "    <tr style=\"text-align: right;\">\n",
       "      <th></th>\n",
       "      <th>region_labels</th>\n",
       "      <th>demographic</th>\n",
       "      <th>value</th>\n",
       "    </tr>\n",
       "  </thead>\n",
       "  <tbody>\n",
       "    <tr>\n",
       "      <th>1</th>\n",
       "      <td>North-East</td>\n",
       "      <td>Total Homeless</td>\n",
       "      <td>115878</td>\n",
       "    </tr>\n",
       "    <tr>\n",
       "      <th>3</th>\n",
       "      <td>West</td>\n",
       "      <td>Total Homeless</td>\n",
       "      <td>96146</td>\n",
       "    </tr>\n",
       "    <tr>\n",
       "      <th>2</th>\n",
       "      <td>South</td>\n",
       "      <td>Total Homeless</td>\n",
       "      <td>62468</td>\n",
       "    </tr>\n",
       "    <tr>\n",
       "      <th>0</th>\n",
       "      <td>Midwest</td>\n",
       "      <td>Total Homeless</td>\n",
       "      <td>46500</td>\n",
       "    </tr>\n",
       "  </tbody>\n",
       "</table>\n",
       "</div>"
      ],
      "text/plain": [
       "  region_labels     demographic   value\n",
       "1    North-East  Total Homeless  115878\n",
       "3          West  Total Homeless   96146\n",
       "2         South  Total Homeless   62468\n",
       "0       Midwest  Total Homeless   46500"
      ]
     },
     "execution_count": 22,
     "metadata": {},
     "output_type": "execute_result"
    }
   ],
   "source": [
    "regions_sum_groupby.sort_values(\"value\", ascending=False)"
   ]
  },
  {
   "cell_type": "code",
   "execution_count": 23,
   "id": "d6bbee48",
   "metadata": {},
   "outputs": [
    {
     "data": {
      "text/html": [
       "<div>\n",
       "<style scoped>\n",
       "    .dataframe tbody tr th:only-of-type {\n",
       "        vertical-align: middle;\n",
       "    }\n",
       "\n",
       "    .dataframe tbody tr th {\n",
       "        vertical-align: top;\n",
       "    }\n",
       "\n",
       "    .dataframe thead th {\n",
       "        text-align: right;\n",
       "    }\n",
       "</style>\n",
       "<table border=\"1\" class=\"dataframe\">\n",
       "  <thead>\n",
       "    <tr style=\"text-align: right;\">\n",
       "      <th></th>\n",
       "      <th>sub_region_labels</th>\n",
       "      <th>demographic</th>\n",
       "      <th>value</th>\n",
       "    </tr>\n",
       "  </thead>\n",
       "  <tbody>\n",
       "    <tr>\n",
       "      <th>2</th>\n",
       "      <td>Mid-Atlantic</td>\n",
       "      <td>Total Homeless</td>\n",
       "      <td>92858</td>\n",
       "    </tr>\n",
       "    <tr>\n",
       "      <th>8</th>\n",
       "      <td>Pacific</td>\n",
       "      <td>Total Homeless</td>\n",
       "      <td>72405</td>\n",
       "    </tr>\n",
       "    <tr>\n",
       "      <th>5</th>\n",
       "      <td>South Atlantic</td>\n",
       "      <td>Total Homeless</td>\n",
       "      <td>38064</td>\n",
       "    </tr>\n",
       "    <tr>\n",
       "      <th>0</th>\n",
       "      <td>East North Central</td>\n",
       "      <td>Total Homeless</td>\n",
       "      <td>29287</td>\n",
       "    </tr>\n",
       "    <tr>\n",
       "      <th>7</th>\n",
       "      <td>Mountain</td>\n",
       "      <td>Total Homeless</td>\n",
       "      <td>23741</td>\n",
       "    </tr>\n",
       "    <tr>\n",
       "      <th>3</th>\n",
       "      <td>New England</td>\n",
       "      <td>Total Homeless</td>\n",
       "      <td>23020</td>\n",
       "    </tr>\n",
       "    <tr>\n",
       "      <th>1</th>\n",
       "      <td>West North Central</td>\n",
       "      <td>Total Homeless</td>\n",
       "      <td>17213</td>\n",
       "    </tr>\n",
       "    <tr>\n",
       "      <th>6</th>\n",
       "      <td>West South Central</td>\n",
       "      <td>Total Homeless</td>\n",
       "      <td>16689</td>\n",
       "    </tr>\n",
       "    <tr>\n",
       "      <th>4</th>\n",
       "      <td>East South Central</td>\n",
       "      <td>Total Homeless</td>\n",
       "      <td>7715</td>\n",
       "    </tr>\n",
       "  </tbody>\n",
       "</table>\n",
       "</div>"
      ],
      "text/plain": [
       "    sub_region_labels     demographic  value\n",
       "2        Mid-Atlantic  Total Homeless  92858\n",
       "8             Pacific  Total Homeless  72405\n",
       "5      South Atlantic  Total Homeless  38064\n",
       "0  East North Central  Total Homeless  29287\n",
       "7            Mountain  Total Homeless  23741\n",
       "3         New England  Total Homeless  23020\n",
       "1  West North Central  Total Homeless  17213\n",
       "6  West South Central  Total Homeless  16689\n",
       "4  East South Central  Total Homeless   7715"
      ]
     },
     "execution_count": 23,
     "metadata": {},
     "output_type": "execute_result"
    }
   ],
   "source": [
    "sub_regions_sum_groupby.drop(\"region_labels\", axis=1).sort_values(\"value\", ascending=False)"
   ]
  },
  {
   "cell_type": "markdown",
   "id": "86700d7e",
   "metadata": {},
   "source": [
    "# Continuums of Care by Region and Sub-region\n",
    "\n",
    "<strong>What are Continuums of Care?</strong>\n",
    "\n",
    "According the the US department of Housing and Urban Development, Continuums of Care are described as follows:\n",
    "\n",
    "    A Continuum of Care (CoC) is the group organized to carry out the responsibilities prescribed in the CoC Program Interim Rule for a defined geographic area. A CoC should be composed of representatives of organizations including: nonprofit homeless providers, victim service providers, faith-based organizations, governments, businesses, advocates, public housing agencies, school districts, social service providers, mental health agencies, hospitals, universities, affordable housing developers, law enforcement, organizations that serve homeless and formerly homeless veterans, and homeless and formerly homeless persons.\n",
    "    \n",
    "In my simple interpretation, a CoC is a network of organizations whose missions are to serve homeless populations."
   ]
  },
  {
   "cell_type": "code",
   "execution_count": 24,
   "id": "d0deeeed",
   "metadata": {},
   "outputs": [
    {
     "data": {
      "text/plain": [
       "[Text(0, 0, 'East North Central'),\n",
       " Text(1, 0, 'West North Central'),\n",
       " Text(2, 0, 'Mid-Atlantic'),\n",
       " Text(3, 0, 'New England'),\n",
       " Text(4, 0, 'East South Central'),\n",
       " Text(5, 0, 'South Atlantic'),\n",
       " Text(6, 0, 'West South Central'),\n",
       " Text(7, 0, 'Mountain'),\n",
       " Text(8, 0, 'Pacific')]"
      ]
     },
     "execution_count": 24,
     "metadata": {},
     "output_type": "execute_result"
    },
    {
     "data": {
      "image/png": "[encoded data removed]",
      "text/plain": [
       "<Figure size 1440x720 with 2 Axes>"
      ]
     },
     "metadata": {
      "needs_background": "light"
     },
     "output_type": "display_data"
    }
   ],
   "source": [
    "fig, axes = plt.subplots(1, 2, figsize=(20, 10))\n",
    "\n",
    "# Left plot\n",
    "states_coc_sum_groupby = coc_subregion_sum_groupby.groupby(\"region_labels\").sum().reset_index()\n",
    "subregions_CoC_barplot = sb.barplot(\n",
    "    ax=axes[0],\n",
    "    data=states_coc_sum_groupby,\n",
    "    x=\"region_labels\",\n",
    "    y=\"value\"\n",
    ")\n",
    "subregions_CoC_barplot.set(title=\"Total Continuums of Care by Region\\n\", xlabel=\"\\nRegions\", ylabel=\"Total CoCs\")\n",
    "subregions_CoC_barplot.set_xticklabels(subregions_CoC_barplot.get_xticklabels(), rotation=90)\n",
    "\n",
    "# Right Plot\n",
    "subregions_CoC_barplot = sb.barplot(\n",
    "    ax=axes[1],\n",
    "    data=coc_subregion_sum_groupby,\n",
    "    x=\"sub_region_labels\",\n",
    "    y=\"value\",\n",
    "    hue=\"region_labels\"\n",
    ")\n",
    "subregions_CoC_barplot.set(title=\"Total Continuums of Care by Sub Regions\\n\", xlabel=\"\\nSub-Regions\", ylabel=\"Total CoCs\")\n",
    "subregions_CoC_barplot.set_xticklabels(subregions_CoC_barplot.get_xticklabels(), rotation=90)\n",
    "# NICE!"
   ]
  },
  {
   "cell_type": "markdown",
   "id": "23d87d11",
   "metadata": {},
   "source": [
    "Several things of interest are revealed by the two barplots above:\n",
    "1. The total number of Continuums of Care by subregion looks strikingly similar to the distribution of data as described by earlier visualizations of the totals by subregion. \n",
    "2. That said, the South Atlantic subregion has a significantly higher number of CoCs (>80) compared to other subregions.\n",
    "3. On the barplot describing CoC totals by region, despite having much higher estimates of total homeless populations, the West and North-East have less CoCs than both the Midwest and especially the South."
   ]
  },
  {
   "cell_type": "markdown",
   "id": "0d11ba1f",
   "metadata": {},
   "source": [
    "# Age"
   ]
  },
  {
   "cell_type": "code",
   "execution_count": 25,
   "id": "0e25f01a",
   "metadata": {},
   "outputs": [
    {
     "ename": "SyntaxError",
     "evalue": "invalid syntax (Temp/ipykernel_15188/2083182772.py, line 7)",
     "output_type": "error",
     "traceback": [
      "\u001b[1;36m  File \u001b[1;32m\"C:\\Users\\lilyc\\AppData\\Local\\Temp/ipykernel_15188/2083182772.py\"\u001b[1;36m, line \u001b[1;32m7\u001b[0m\n\u001b[1;33m    title=\"Sheltered Homeless population estimates by Age group\\n\"b\u001b[0m\n\u001b[1;37m                                                                  ^\u001b[0m\n\u001b[1;31mSyntaxError\u001b[0m\u001b[1;31m:\u001b[0m invalid syntax\n"
     ]
    }
   ],
   "source": [
    "age_demo = category_totals[category_totals[\"demographic_category\"] == \"age\"]\n",
    "age_scatterplot = sb.relplot(data=age_demo, x=\"State\", y=\"value\", hue=\"demographic\", aspect=2)\n",
    "age_scatterplot.set(\n",
    "    xlim=(-1, 49.5), \n",
    "    xlabel=\"\\nStates\",\n",
    "    ylabel=\"Homeless population estimates\\n\",\n",
    "    title=\"Sheltered Homeless population estimates by Age group\\n\"\n",
    ")\n",
    "age_scatterplot.set_xticklabels(rotation=90)\n",
    "# NICE!"
   ]
  },
  {
   "cell_type": "markdown",
   "id": "44a33cc2",
   "metadata": {},
   "source": [
    "In the scatterplot above, I wanted to demonstrate a challenge I encountered when trying to plot 50 categorical variables (e.g. State names). While I can understand wanting to see statistics as they vary across states, visualizing this many categorical variables greatly reduces the overall readability of the graphic. \n",
    "\n",
    "According to this chart, most unhoused people are \"Over 24\" years old and this number is typically followed by the \"Under 18\" category which would make sense since the range of \"Age 18 to 24\" is significantly smaller than the former two."
   ]
  },
  {
   "cell_type": "markdown",
   "id": "49c0f2b2",
   "metadata": {},
   "source": [
    "# Race"
   ]
  },
  {
   "cell_type": "code",
   "execution_count": null,
   "id": "cc439f97",
   "metadata": {},
   "outputs": [],
   "source": [
    "fig, axes = plt.subplots(1, 2, figsize=(20, 10))\n",
    "\n",
    "# sub_region barplot\n",
    "race_subregion_sum_groupby = race_subregion_sum_groupby[race_subregion_sum_groupby[\"demographic\"] != \"Non-Hispanic/Non-Latino\"]\n",
    "race_subregion_barplot = sb.barplot(ax=axes[1], data=race_subregion_sum_groupby, x=\"demographic\", y=\"value\", hue=\"sub_region_labels\", palette=\"Paired\", ci=False)\n",
    "race_subregion_barplot.set_xticklabels(race_subregion_barplot.get_xticklabels(), rotation=90)\n",
    "\n",
    "# region barplot\n",
    "# \"Non-Hispanic/Non-Latino\" is an aggregate (sum) label for non-Hispanic/Non-Latino races \n",
    "# which isn't particularly useful, so I exclude it from the visualization.\n",
    "race_region_sum_groupby = race_subregion_sum_groupby.groupby([\"region_labels\", \"demographic\"]).agg({\"value\":np.sum}).reset_index()\n",
    "race_region_sum_groupby = race_region_sum_groupby[race_region_sum_groupby[\"demographic\"] != \"Non-Hispanic/Non-Latino\"]\n",
    "\n",
    "race_region_barplot = sb.barplot(ax=axes[0], data=race_region_sum_groupby, x=\"demographic\", y=\"value\", hue=\"region_labels\", ci=False)\n",
    "race_region_barplot.set_xticklabels(race_region_barplot.get_xticklabels(), rotation=90)"
   ]
  },
  {
   "cell_type": "markdown",
   "id": "7f1565ef",
   "metadata": {},
   "source": [
    "For these graphics, I tried a new direction for visualizing differences across reported race and by region or subregion. Each of the racial categories is represented along the x-axis and the estimated totals for each group is then colored by their region labels and subregion labels.\n",
    "\n",
    "From these visualizations, we can see that Black people are seemingly over-represented in both the Mid-Atlantic and the North-East more generally. To really understand the magnitude of these totals, I would want to set up a comparison with total populations by state; but for now I felt this to be out of the scope of this project."
   ]
  },
  {
   "cell_type": "markdown",
   "id": "89f18284",
   "metadata": {},
   "source": [
    "# GENDER"
   ]
  },
  {
   "cell_type": "code",
   "execution_count": null,
   "id": "a0793e59",
   "metadata": {},
   "outputs": [],
   "source": [
    "gender_region_totals = gender_subregion_sum_groupby.groupby([\"region_labels\", \"demographic\"]).agg({\"value\":sum}).reset_index()\n",
    "\n",
    "fig, axes = plt.subplots(1, 2, figsize=(20, 10))\n",
    "\n",
    "# Left graph\n",
    "gender_region_stripplot = sb.barplot(\n",
    "    ax=axes[0], \n",
    "    data=gender_region_totals, \n",
    "    x=\"demographic\", \n",
    "    y=\"value\", \n",
    "    hue=\"region_labels\"\n",
    ")\n",
    "\n",
    "\n",
    "# Right graph\n",
    "gender_subregion_stripplot = sb.barplot(\n",
    "    ax=axes[1], \n",
    "    data=gender_subregion_sum_groupby, \n",
    "    x=\"demographic\", \n",
    "    y=\"value\", \n",
    "    hue=\"sub_region_labels\", \n",
    "    palette=\"Paired\"\n",
    ")"
   ]
  },
  {
   "cell_type": "markdown",
   "id": "e1bd7f5b",
   "metadata": {},
   "source": [
    "# Chronically-Homeless"
   ]
  },
  {
   "cell_type": "code",
   "execution_count": null,
   "id": "03c6cd64",
   "metadata": {},
   "outputs": [],
   "source": [
    "chrnc_region_totals = chrnc_subregion_sum_groupby.groupby([\"region_labels\", \"demographic\"]).sum().reset_index()\n",
    "\n",
    "fig, axes = plt.subplots(1, 2, figsize=(20, 10))\n",
    "\n",
    "# Left Graph\n",
    "chrnc_region_barplot = sb.barplot(ax=axes[0], data=chrnc_region_totals , x=\"region_labels\", y=\"value\")\n",
    "chrnc_region_barplot.set(title=\"Total Chronically Homeless by Region\", xlabel=\"\\nRegions\", ylabel=\"Total Chronically Homeless\")\n",
    "\n",
    "# Right graph\n",
    "chrnc_subregion_barplot = sb.barplot(\n",
    "    ax=axes[1], \n",
    "    data=chrnc_subregion_sum_groupby, \n",
    "    x=\"sub_region_labels\", \n",
    "    y=\"value\", \n",
    "    palette=\"Paired\"\n",
    ")\n",
    "chrnc_subregion_barplot.set(title=\"Total Chronically Homeless by Subregion\", xlabel=\"\\nSubregions\", ylabel=\"Total Chronically Homeless\")\n",
    "chrnc_subregion_barplot.set_xticklabels(chrnc_subregion_barplot.get_xticklabels(), rotation=45)"
   ]
  },
  {
   "cell_type": "markdown",
   "id": "b1ffcb9c",
   "metadata": {},
   "source": [
    "The total number of homeless people who are chronically homeless are represented at a significantly higher rate in the Pacific compared to other sub-regions. Almost $18,000$ people out of the total of $72,405$ in the Pacific subregion are chronically affected by homelessness. Meaning that 1 in 4 people experiencing homelessness in the Pacific subregion will have experienced homelessness for at least a year - or will experience homelessness frequently. "
   ]
  },
  {
   "cell_type": "code",
   "execution_count": null,
   "id": "0b54e084",
   "metadata": {},
   "outputs": [],
   "source": [
    "total_vacancies = vacancy_rate_yr[\"cell_value\"].mean()\n",
    "total_homeless_people = states_totals_df[\"value\"].sum()\n",
    "\n",
    "# The (PIT) Total estimated homeless population in the US divided by the average number of vacant homes in 2021 \n",
    "final_ratio = total_homeless_people / total_vacancies\n",
    "\n",
    "print(f\"For every vacant home in the United States, there are {round(final_ratio, 0)} people who are experiencing homelessness.\")"
   ]
  },
  {
   "cell_type": "markdown",
   "id": "e339d745-448e-4b9d-92d2-b849dec6f19c",
   "metadata": {},
   "source": [
    "# Rental Vacancies rates from 1956 to 2021"
   ]
  },
  {
   "cell_type": "code",
   "execution_count": null,
   "id": "7fc0e769",
   "metadata": {},
   "outputs": [],
   "source": [
    "rental_vacancy_rates_df = pd.read_excel(rental_vacancy_rates_xl)\n",
    "rental_vacancy_rates_df = rental_vacancy_rates_df.dropna()\n",
    "rental_vacancy_rates_df = rental_vacancy_rates_df.iloc[2:]\n",
    "rental_vacancy_rates_df.columns = [\"observation_dt\", \"vacancy_rate\"]\n",
    "rental_vacancy_rates_df[\"year\"] =  rental_vacancy_rates_df[\"observation_dt\"].apply(lambda x: int(x.strftime(\"%Y\")))"
   ]
  },
  {
   "cell_type": "code",
   "execution_count": null,
   "id": "49b6beb9",
   "metadata": {},
   "outputs": [],
   "source": [
    "rental_vacancy_rates2021 = rental_vacancy_rates_df.sort_values(\"year\", ascending=False).head(4)\n",
    "rental_vacancy_rate2021_lplot = sb.relplot(\n",
    "    data=rental_vacancy_rates2021, \n",
    "    x=\"observation_dt\", \n",
    "    y=\"vacancy_rate\", \n",
    "    kind=\"line\", \n",
    "    aspect=2\n",
    ")\n",
    "rental_vacancy_rate2021_lplot.set(\n",
    "    xlabel=\"\\nYear of 2021\",\n",
    "    ylabel=\"Vacancy Rate\\n\",\n",
    "    title=\"United States Rental Vacancy Rate over 2021\"\n",
    ")"
   ]
  },
  {
   "cell_type": "code",
   "execution_count": null,
   "id": "b6b255bf",
   "metadata": {},
   "outputs": [],
   "source": [
    "sb.lineplot(\n",
    "    data=rental_vacancy_rates_df, \n",
    "    x=\"observation_dt\", \n",
    "    y=\"vacancy_rate\"\n",
    ")"
   ]
  },
  {
   "cell_type": "code",
   "execution_count": null,
   "id": "ee2cb0ea",
   "metadata": {},
   "outputs": [],
   "source": [
    "# Rental vacancies, from 2008 to-date\n",
    "after_2008 = rental_vacancy_rates_df[rental_vacancy_rates_df[\"year\"] >= 2008]\n",
    "sb.lineplot(\n",
    "    data= after_2008,\n",
    "    x=\"year\",\n",
    "    y=\"vacancy_rate\",\n",
    "    ci=\"sd\"\n",
    ")\n",
    "\n",
    "# Next useful comparisons\n",
    "#    Number of home vacancies\n",
    "#    Housing affordability data, if possible"
   ]
  },
  {
   "cell_type": "markdown",
   "id": "dec2bdc3",
   "metadata": {},
   "source": [
    "### Challenges:\n",
    "- Learned firsthand why we use long data > wide data for analysis and visualization.\n",
    "    - Learned how to properly shape data using pd.melt()\n",
    "- Created multiple tabular datasets from disparate datasources.\n",
    "- Finding timely datasets that would effectively address the research question."
   ]
  }
 ],
 "metadata": {
  "kernelspec": {
   "display_name": "Python 3 (ipykernel)",
   "language": "python",
   "name": "python3"
  },
  "language_info": {
   "codemirror_mode": {
    "name": "ipython",
    "version": 3
   },
   "file_extension": ".py",
   "mimetype": "text/x-python",
   "name": "python",
   "nbconvert_exporter": "python",
   "pygments_lexer": "ipython3",
   "version": "3.9.7"
  }
 },
 "nbformat": 4,
 "nbformat_minor": 5
}
